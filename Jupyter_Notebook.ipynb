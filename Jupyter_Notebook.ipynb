{
  "metadata": {
    "kernelspec": {
      "name": "python",
      "display_name": "Pyolite",
      "language": "python"
    },
    "language_info": {
      "codemirror_mode": {
        "name": "python",
        "version": 3
      },
      "file_extension": ".py",
      "mimetype": "text/x-python",
      "name": "python",
      "nbconvert_exporter": "python",
      "pygments_lexer": "ipython3",
      "version": "3.8"
    }
  },
  "nbformat_minor": 4,
  "nbformat": 4,
  "cells": [
    {
      "cell_type": "markdown",
      "source": "# My Jupyter Notebook on IBM Watson Studio",
      "metadata": {}
    },
    {
      "cell_type": "markdown",
      "source": "**Lara Mamdouh**\n\nStudent",
      "metadata": {}
    },
    {
      "cell_type": "markdown",
      "source": "*I am interested in Data science because it is one of the most important fields in the world, It is being used by organizations across all industries, which means there are many job opportunities available, and  it is a field that offers a high degree of job satisfaction as you will be solving complex problems and making a real impact on businesses and society.* ",
      "metadata": {}
    },
    {
      "cell_type": "markdown",
      "source": "### This code should perform a simple mathematics operation and print its output",
      "metadata": {}
    },
    {
      "cell_type": "code",
      "source": "a = 13\na = a * 24\nprint(\"The value of a is\", a)",
      "metadata": {
        "trusted": true
      },
      "execution_count": 1,
      "outputs": [
        {
          "name": "stdout",
          "text": "The value of a is 312\n",
          "output_type": "stream"
        }
      ]
    },
    {
      "cell_type": "markdown",
      "source": "A bulleted list should look like this:\n\n- one instruction\n\n- two instructions\n\n- three instructions\n",
      "metadata": {}
    },
    {
      "cell_type": "markdown",
      "source": "A numbered list should look like this:\n1. one sentence\n2. two sentences\n3. three sentences",
      "metadata": {}
    },
    {
      "cell_type": "markdown",
      "source": "<img src=\"https://images.unsplash.com/photo-1589652717406-1c69efaf1ff8?ixlib=rb-1.2.1&ixid=MXwxMjA3fDB8MHxwaG90by1wYWdlfHx8fGVufDB8fHw%3D&auto=format&fit=crop&w=1650&q=80\" style=\"height:300px\" />",
      "metadata": {}
    },
    {
      "cell_type": "markdown",
      "source": "> This is a blockquote",
      "metadata": {}
    },
    {
      "cell_type": "code",
      "source": "",
      "metadata": {},
      "execution_count": null,
      "outputs": []
    }
  ]
}